{
 "cells": [
  {
   "cell_type": "code",
   "execution_count": null,
   "id": "a335bc8a",
   "metadata": {},
   "outputs": [],
   "source": [
    "import pandas as pd\n",
    "import numpy as np\n",
    "import matplotlib.pyplot as plt\n",
    "import seaborn as sns\n",
    "from statsmodels.tsa.seasonal import seasonal_decompose\n",
    "\n",
    "from statsmodels.tsa.holtwinters import SimpleExpSmoothing # SES\n",
    "from statsmodels.tsa.holtwinters import Holt # Holts Exponential Smoothing\n",
    "from statsmodels.tsa.holtwinters import ExponentialSmoothing "
   ]
  },
  {
   "cell_type": "code",
   "execution_count": null,
   "id": "f4fea5fd",
   "metadata": {},
   "outputs": [],
   "source": [
    "df = pd.read_csv('AAPL.csv')"
   ]
  },
  {
   "cell_type": "code",
   "execution_count": null,
   "id": "60c78ac4",
   "metadata": {},
   "outputs": [],
   "source": [
    "Train = df.head(1760)\n",
    "Test = df.tail(251)"
   ]
  },
  {
   "cell_type": "code",
   "execution_count": null,
   "id": "3392b3fd",
   "metadata": {},
   "outputs": [],
   "source": [
    "Train"
   ]
  },
  {
   "cell_type": "code",
   "execution_count": null,
   "id": "b93da675",
   "metadata": {},
   "outputs": [],
   "source": [
    "Test"
   ]
  },
  {
   "cell_type": "code",
   "execution_count": null,
   "id": "2be401b2",
   "metadata": {},
   "outputs": [],
   "source": [
    "plt.figure(figsize=(24,7))\n",
    "df.Close.plot(label=\"org\")\n",
    "for i in range(2,30,6):\n",
    "    df[\"Close\"].rolling(i).mean().plot(label=str(i))\n",
    "plt.legend(loc='best')"
   ]
  },
  {
   "cell_type": "code",
   "execution_count": null,
   "id": "f2c101fb",
   "metadata": {},
   "outputs": [],
   "source": [
    "from statsmodels.tsa.seasonal import seasonal_decompose\n",
    "decompose_ts_add = seasonal_decompose(df.Close,period= 12)\n",
    "decompose_ts_add.plot()\n",
    "plt.show()"
   ]
  },
  {
   "cell_type": "code",
   "execution_count": null,
   "id": "415d4cb8",
   "metadata": {},
   "outputs": [],
   "source": [
    "import statsmodels.graphics.tsaplots as tsa_plots\n",
    "tsa_plots.plot_acf(df.Close,lags=12)\n",
    "tsa_plots.plot_pacf(df.Close,lags=12)\n",
    "plt.show()\n"
   ]
  },
  {
   "cell_type": "code",
   "execution_count": null,
   "id": "78e9d355",
   "metadata": {},
   "outputs": [],
   "source": [
    "def MAPE(pred,org):\n",
    "    temp = np.abs((pred-org)/org)*100\n",
    "    return np.mean(temp)"
   ]
  },
  {
   "cell_type": "markdown",
   "id": "c6a4ad8d",
   "metadata": {},
   "source": [
    "Simple Exponential Method"
   ]
  },
  {
   "cell_type": "code",
   "execution_count": null,
   "id": "9f2dc229",
   "metadata": {},
   "outputs": [],
   "source": [
    "ses_model = SimpleExpSmoothing(Train[\"Close\"]).fit(smoothing_level=0.2)\n",
    "pred_ses = ses_model.predict(start = Test.index[0],end = Test.index[-1])\n",
    "MAPE(pred_ses,Test.Close) "
   ]
  },
  {
   "cell_type": "markdown",
   "id": "975f0702",
   "metadata": {},
   "source": [
    "Holt method"
   ]
  },
  {
   "cell_type": "code",
   "execution_count": null,
   "id": "7294b05f",
   "metadata": {},
   "outputs": [],
   "source": [
    "# Holt method \n",
    "hw_model = Holt(Train[\"Close\"]).fit(smoothing_level=0.8, smoothing_trend=0.2)\n",
    "pred_hw = hw_model.predict(start = Test.index[0],end = Test.index[-1])\n",
    "MAPE(pred_hw,Test.Close) "
   ]
  },
  {
   "cell_type": "markdown",
   "id": "7ef87d85",
   "metadata": {},
   "source": [
    "Holts winter exponential smoothing with additive seasonality and additive trend"
   ]
  },
  {
   "cell_type": "code",
   "execution_count": null,
   "id": "28193837",
   "metadata": {},
   "outputs": [],
   "source": [
    "hwe_model_add_add = ExponentialSmoothing(Train[\"Close\"],seasonal=\"add\",trend=\"add\",seasonal_periods=251).fit() #add the trend to the model\n",
    "pred_hwe_add_add = hwe_model_add_add.predict(start = Test.index[0],end = Test.index[-1])\n",
    "MAPE(pred_hwe_add_add,Test.Close) "
   ]
  },
  {
   "cell_type": "markdown",
   "id": "9c4432db",
   "metadata": {},
   "source": [
    "Holts winter exponential smoothing with multiplicative seasonality and additive trend"
   ]
  },
  {
   "cell_type": "code",
   "execution_count": null,
   "id": "25eca037",
   "metadata": {},
   "outputs": [],
   "source": [
    "hwe_model_mul_add = ExponentialSmoothing(Train[\"Close\"],seasonal=\"mul\",trend=\"add\",seasonal_periods=251)"
   ]
  },
  {
   "cell_type": "code",
   "execution_count": null,
   "id": "577c0fb6",
   "metadata": {},
   "outputs": [],
   "source": [
    "model_fit = hwe_model_mul_add.fit()"
   ]
  },
  {
   "cell_type": "code",
   "execution_count": null,
   "id": "a558144d",
   "metadata": {},
   "outputs": [],
   "source": [
    "pred_hwe_mul_add = model_fit.predict(start = Test.index[0],end = Test.index[-1])\n",
    "MAPE(pred_hwe_mul_add,Test.Close)"
   ]
  },
  {
   "cell_type": "code",
   "execution_count": null,
   "id": "399fc81f",
   "metadata": {},
   "outputs": [],
   "source": [
    "model_fit = ExponentialSmoothing(df.Close,seasonal=\"add\",trend=\"add\",seasonal_periods=251).fit()"
   ]
  },
  {
   "cell_type": "code",
   "execution_count": null,
   "id": "f88a7b8c",
   "metadata": {},
   "outputs": [],
   "source": [
    "# make predictions on the test data\n",
    "predictions = model_fit.forecast(30)"
   ]
  },
  {
   "cell_type": "code",
   "execution_count": null,
   "id": "9343d07c",
   "metadata": {},
   "outputs": [],
   "source": [
    "predictions"
   ]
  },
  {
   "cell_type": "markdown",
   "id": "093d4910",
   "metadata": {},
   "source": [
    "Final Model by combining train and test"
   ]
  },
  {
   "cell_type": "code",
   "execution_count": null,
   "id": "16c9213a",
   "metadata": {},
   "outputs": [],
   "source": [
    "hw_model = ExponentialSmoothing(df.Close,seasonal=\"add\",trend=\"add\",seasonal_periods=251).fit()"
   ]
  },
  {
   "cell_type": "code",
   "execution_count": null,
   "id": "e31bd8c0",
   "metadata": {},
   "outputs": [],
   "source": [
    "hw_model.forecast(30)"
   ]
  },
  {
   "cell_type": "code",
   "execution_count": null,
   "id": "2c72562a",
   "metadata": {},
   "outputs": [],
   "source": [
    "y_pred = hw_model.predict(start=len(Train), end=len(Train)+len(Test)-1)\n",
    "\n",
    "from sklearn.metrics import mean_squared_error\n",
    "rmse2 = mean_squared_error(Test['Close'].astype(float), y_pred, squared=False)\n",
    "rmse2"
   ]
  },
  {
   "cell_type": "code",
   "execution_count": null,
   "id": "1a7c4b1c",
   "metadata": {},
   "outputs": [],
   "source": [
    "y_pred"
   ]
  },
  {
   "cell_type": "code",
   "execution_count": null,
   "id": "5c258497",
   "metadata": {},
   "outputs": [],
   "source": [
    "len(y_pred)"
   ]
  },
  {
   "cell_type": "code",
   "execution_count": null,
   "id": "c0a77031",
   "metadata": {},
   "outputs": [],
   "source": [
    "comp = pd.DataFrame()\n",
    "comp['test'] = Test[\"Close\"]\n",
    "comp['prediction'] = y_pred\n",
    "comp"
   ]
  },
  {
   "cell_type": "code",
   "execution_count": null,
   "id": "73990bd0",
   "metadata": {},
   "outputs": [],
   "source": [
    "plt.plot(Test[\"Close\"], color = 'red', label = 'Real  Stock Price')\n",
    "plt.plot(y_pred, color = 'blue', label = 'Predicted  Stock Price')\n",
    "plt.title(' Stock Price Prediction')\n",
    "plt.xlabel('Time')\n",
    "plt.ylabel(' Stock Price')\n",
    "plt.legend()\n",
    "plt.show()"
   ]
  },
  {
   "cell_type": "code",
   "execution_count": null,
   "id": "908cf03e",
   "metadata": {},
   "outputs": [],
   "source": []
  },
  {
   "cell_type": "code",
   "execution_count": null,
   "id": "97407bdd",
   "metadata": {},
   "outputs": [],
   "source": [
    "import pickle"
   ]
  },
  {
   "cell_type": "code",
   "execution_count": null,
   "id": "6d44249f",
   "metadata": {},
   "outputs": [],
   "source": [
    "with open('apple_stock_model.pkl', 'wb') as f:\n",
    "    pickle.dump(model_fit, f)"
   ]
  },
  {
   "cell_type": "code",
   "execution_count": null,
   "id": "bed03393",
   "metadata": {},
   "outputs": [],
   "source": []
  },
  {
   "cell_type": "code",
   "execution_count": 4,
   "id": "f381c39b",
   "metadata": {},
   "outputs": [],
   "source": [
    "import streamlit as st\n",
    "import pickle\n",
    "import pandas as pd\n",
    "from statsmodels.tsa.holtwinters import ExponentialSmoothing \n",
    "import plotly.express as px\n",
    "\n",
    "st.title('Apple Stock Price Forecasting')\n",
    "\n",
    "# load the saved model\n",
    "with open('apple_stock_model.pkl', 'rb') as f:\n",
    "    model_fit = pickle.load(f)\n",
    "\n",
    "# load the test dataset\n",
    "df_test = pd.read_csv('AAPL.csv', parse_dates=['Date'], index_col='Date')\n",
    "\n",
    "# Split the data into train and test sets\n",
    "Train = df_test.head(1760)\n",
    "Test = df_test.tail(251)\n",
    "\n",
    "# Add a widget to trigger the forecasting and chart generation\n",
    "if st.button('Generate Forecast'):\n",
    "    # Fit the Prophet model on the training data\n",
    "    hwe_model_mul_add = ExponentialSmoothing(Train[\"Close\"],seasonal=\"mul\",trend=\"add\",seasonal_periods=251).fit() \n",
    "\n",
    "    # Forecast for the next N days\n",
    "    forecast_period = st.number_input(\"Enter the number of days to forecast\", min_value=1, max_value=None, value=30)\n",
    "    forecast_dates = pd.date_range(start=df_test.index[-1], periods=forecast_period, freq='D')\n",
    "    forecast_data = pd.DataFrame(index=forecast_dates, columns=df_test.columns)\n",
    "    forecast_data['Open'] = df_test['Open'][-1]\n",
    "    forecast_data['High'] = df_test['High'][-1]\n",
    "    forecast_data['Low'] = df_test['Low'][-1]\n",
    "    forecast_data['Close'] = hwe_model_mul_add.predict(pd.DataFrame(forecast_dates, columns=['ds'])).yhat.values\n",
    "\n",
    "    # Make predictions for the test data\n",
    "    Test = Test.sort_index()\n",
    "    pred_hwe_mul_add = hwe_model_mul_add.predict(pd.DataFrame(Test.index, columns=['ds'])).yhat.values\n",
    "\n",
    "    # Add a checkbox for showing the forecast\n",
    "    show_forecast = st.checkbox('Show forecast')\n",
    "\n",
    "    # Plot the actual and predicted values for the test data and forecasted values\n",
    "    fig = px.line(pd.concat([Test.Close, pd.Series(pred_hwe_mul_add, index=Test.index)], axis=1).reset_index().melt(id_vars='Date', value_vars=['Close', 0]), x='Date', y='value', color='variable')\n",
    "    if show_forecast:\n",
    "        fig.add_trace(px.line(forecast_data.reset_index().melt(id_vars='Date', value_vars=['Close']), x='Date', y='value').data[0])\n",
    "    fig.update_layout(title='Apple Stock Prices', xaxis_title='Date', yaxis_title='Price', legend_title='')\n",
    "    st.plotly_chart(fig)\n"
   ]
  },
  {
   "cell_type": "code",
   "execution_count": null,
   "id": "6e54c66e",
   "metadata": {},
   "outputs": [],
   "source": []
  }
 ],
 "metadata": {
  "kernelspec": {
   "display_name": "Python 3 (ipykernel)",
   "language": "python",
   "name": "python3"
  },
  "language_info": {
   "codemirror_mode": {
    "name": "ipython",
    "version": 3
   },
   "file_extension": ".py",
   "mimetype": "text/x-python",
   "name": "python",
   "nbconvert_exporter": "python",
   "pygments_lexer": "ipython3",
   "version": "3.10.9"
  }
 },
 "nbformat": 4,
 "nbformat_minor": 5
}
